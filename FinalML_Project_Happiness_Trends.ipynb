{
  "nbformat": 4,
  "nbformat_minor": 0,
  "metadata": {
    "colab": {
      "name": " FinalML Project - Happiness Trends",
      "provenance": [],
      "collapsed_sections": []
    },
    "kernelspec": {
      "name": "python3",
      "display_name": "Python 3"
    },
    "language_info": {
      "name": "python"
    }
  },
  "cells": [
    {
      "cell_type": "code",
      "metadata": {
        "colab": {
          "base_uri": "https://localhost:8080/",
          "height": 328
        },
        "id": "4hkWoBilTMdT",
        "outputId": "ec0205f3-d46b-4ca8-af07-2ed30c799aae"
      },
      "source": [
        "from google.colab import drive\n",
        "drive.mount(\"/content/drive\", force_remount = True)"
      ],
      "execution_count": 4,
      "outputs": [
        {
          "output_type": "error",
          "ename": "MessageError",
          "evalue": "ignored",
          "traceback": [
            "\u001b[0;31m---------------------------------------------------------------------------\u001b[0m",
            "\u001b[0;31mMessageError\u001b[0m                              Traceback (most recent call last)",
            "\u001b[0;32m<ipython-input-4-69937f4d6c09>\u001b[0m in \u001b[0;36m<module>\u001b[0;34m()\u001b[0m\n\u001b[1;32m      1\u001b[0m \u001b[0;32mfrom\u001b[0m \u001b[0mgoogle\u001b[0m\u001b[0;34m.\u001b[0m\u001b[0mcolab\u001b[0m \u001b[0;32mimport\u001b[0m \u001b[0mdrive\u001b[0m\u001b[0;34m\u001b[0m\u001b[0;34m\u001b[0m\u001b[0m\n\u001b[0;32m----> 2\u001b[0;31m \u001b[0mdrive\u001b[0m\u001b[0;34m.\u001b[0m\u001b[0mmount\u001b[0m\u001b[0;34m(\u001b[0m\u001b[0;34m\"/content/drive\"\u001b[0m\u001b[0;34m,\u001b[0m \u001b[0mforce_remount\u001b[0m \u001b[0;34m=\u001b[0m \u001b[0;32mTrue\u001b[0m\u001b[0;34m)\u001b[0m\u001b[0;34m\u001b[0m\u001b[0;34m\u001b[0m\u001b[0m\n\u001b[0m",
            "\u001b[0;32m/usr/local/lib/python3.7/dist-packages/google/colab/drive.py\u001b[0m in \u001b[0;36mmount\u001b[0;34m(mountpoint, force_remount, timeout_ms, use_metadata_server)\u001b[0m\n\u001b[1;32m    111\u001b[0m       \u001b[0mtimeout_ms\u001b[0m\u001b[0;34m=\u001b[0m\u001b[0mtimeout_ms\u001b[0m\u001b[0;34m,\u001b[0m\u001b[0;34m\u001b[0m\u001b[0;34m\u001b[0m\u001b[0m\n\u001b[1;32m    112\u001b[0m       \u001b[0muse_metadata_server\u001b[0m\u001b[0;34m=\u001b[0m\u001b[0muse_metadata_server\u001b[0m\u001b[0;34m,\u001b[0m\u001b[0;34m\u001b[0m\u001b[0;34m\u001b[0m\u001b[0m\n\u001b[0;32m--> 113\u001b[0;31m       ephemeral=ephemeral)\n\u001b[0m\u001b[1;32m    114\u001b[0m \u001b[0;34m\u001b[0m\u001b[0m\n\u001b[1;32m    115\u001b[0m \u001b[0;34m\u001b[0m\u001b[0m\n",
            "\u001b[0;32m/usr/local/lib/python3.7/dist-packages/google/colab/drive.py\u001b[0m in \u001b[0;36m_mount\u001b[0;34m(mountpoint, force_remount, timeout_ms, use_metadata_server, ephemeral)\u001b[0m\n\u001b[1;32m    134\u001b[0m   \u001b[0;32mif\u001b[0m \u001b[0mephemeral\u001b[0m\u001b[0;34m:\u001b[0m\u001b[0;34m\u001b[0m\u001b[0;34m\u001b[0m\u001b[0m\n\u001b[1;32m    135\u001b[0m     _message.blocking_request(\n\u001b[0;32m--> 136\u001b[0;31m         'request_auth', request={'authType': 'dfs_ephemeral'}, timeout_sec=None)\n\u001b[0m\u001b[1;32m    137\u001b[0m \u001b[0;34m\u001b[0m\u001b[0m\n\u001b[1;32m    138\u001b[0m   \u001b[0mmountpoint\u001b[0m \u001b[0;34m=\u001b[0m \u001b[0m_os\u001b[0m\u001b[0;34m.\u001b[0m\u001b[0mpath\u001b[0m\u001b[0;34m.\u001b[0m\u001b[0mexpanduser\u001b[0m\u001b[0;34m(\u001b[0m\u001b[0mmountpoint\u001b[0m\u001b[0;34m)\u001b[0m\u001b[0;34m\u001b[0m\u001b[0;34m\u001b[0m\u001b[0m\n",
            "\u001b[0;32m/usr/local/lib/python3.7/dist-packages/google/colab/_message.py\u001b[0m in \u001b[0;36mblocking_request\u001b[0;34m(request_type, request, timeout_sec, parent)\u001b[0m\n\u001b[1;32m    173\u001b[0m   request_id = send_request(\n\u001b[1;32m    174\u001b[0m       request_type, request, parent=parent, expect_reply=True)\n\u001b[0;32m--> 175\u001b[0;31m   \u001b[0;32mreturn\u001b[0m \u001b[0mread_reply_from_input\u001b[0m\u001b[0;34m(\u001b[0m\u001b[0mrequest_id\u001b[0m\u001b[0;34m,\u001b[0m \u001b[0mtimeout_sec\u001b[0m\u001b[0;34m)\u001b[0m\u001b[0;34m\u001b[0m\u001b[0;34m\u001b[0m\u001b[0m\n\u001b[0m",
            "\u001b[0;32m/usr/local/lib/python3.7/dist-packages/google/colab/_message.py\u001b[0m in \u001b[0;36mread_reply_from_input\u001b[0;34m(message_id, timeout_sec)\u001b[0m\n\u001b[1;32m    104\u001b[0m         reply.get('colab_msg_id') == message_id):\n\u001b[1;32m    105\u001b[0m       \u001b[0;32mif\u001b[0m \u001b[0;34m'error'\u001b[0m \u001b[0;32min\u001b[0m \u001b[0mreply\u001b[0m\u001b[0;34m:\u001b[0m\u001b[0;34m\u001b[0m\u001b[0;34m\u001b[0m\u001b[0m\n\u001b[0;32m--> 106\u001b[0;31m         \u001b[0;32mraise\u001b[0m \u001b[0mMessageError\u001b[0m\u001b[0;34m(\u001b[0m\u001b[0mreply\u001b[0m\u001b[0;34m[\u001b[0m\u001b[0;34m'error'\u001b[0m\u001b[0;34m]\u001b[0m\u001b[0;34m)\u001b[0m\u001b[0;34m\u001b[0m\u001b[0;34m\u001b[0m\u001b[0m\n\u001b[0m\u001b[1;32m    107\u001b[0m       \u001b[0;32mreturn\u001b[0m \u001b[0mreply\u001b[0m\u001b[0;34m.\u001b[0m\u001b[0mget\u001b[0m\u001b[0;34m(\u001b[0m\u001b[0;34m'data'\u001b[0m\u001b[0;34m,\u001b[0m \u001b[0;32mNone\u001b[0m\u001b[0;34m)\u001b[0m\u001b[0;34m\u001b[0m\u001b[0;34m\u001b[0m\u001b[0m\n\u001b[1;32m    108\u001b[0m \u001b[0;34m\u001b[0m\u001b[0m\n",
            "\u001b[0;31mMessageError\u001b[0m: Error: credential propagation was unsuccessful"
          ]
        }
      ]
    },
    {
      "cell_type": "code",
      "metadata": {
        "id": "Bj1Q8ma5QS71",
        "colab": {
          "base_uri": "https://localhost:8080/"
        },
        "outputId": "a592dd7f-d76a-4fde-d4a8-252e0d9cf613"
      },
      "source": [
        "import gdown\n",
        "import numpy as np\n",
        "import pandas as pd\n",
        "df = pd.read_csv(\"drive/MyDrive/mock_student_data - Sheet1.csv\")\n",
        "print(df.head())"
      ],
      "execution_count": null,
      "outputs": [
        {
          "output_type": "stream",
          "name": "stdout",
          "text": [
            "   Male  Female  NB  ...  Sexuality.1  Unnamed: 23  College Choice\n",
            "0     0       1   0  ...        LGBTQ    Not LGBTQ               3\n",
            "1     1       0   0  ...          0.3          0.7               3\n",
            "2     0       1   0  ...          0.5          0.5               3\n",
            "3     0       1   0  ...         0.01         0.99               3\n",
            "4     1       0   0  ...          NaN          NaN               3\n",
            "\n",
            "[5 rows x 25 columns]\n"
          ]
        }
      ]
    },
    {
      "cell_type": "code",
      "source": [
        "properties = list(df.columns.values)\n",
        "\n",
        "properties.remove('H_C1')\n",
        "properties.remove('H_C2')\n",
        "properties.remove('H_C3')\n",
        "properties.remove('Unnamed: 14')\n",
        "properties.remove('Gender')\n",
        "properties.remove('Unnamed: 16')\n",
        "properties.remove('Unnamed: 17')\n",
        "properties.remove('Unnamed: 18')\n",
        "properties.remove('Race')\n",
        "properties.remove('Unnamed: 20')\n",
        "properties.remove('Unnamed: 21')\n",
        "properties.remove('Sexuality.1')\n",
        "properties.remove('Unnamed: 23')\n",
        "properties.remove('College Choice')\n",
        "print(properties)\n",
        "X = df[properties]\n",
        "y = df[['H_C1','H_C2','H_C3']]"
      ],
      "metadata": {
        "colab": {
          "base_uri": "https://localhost:8080/",
          "height": 234
        },
        "id": "d0hqwsc5BTbA",
        "outputId": "1a87784d-764a-4924-a4bd-e39b52567ec7"
      },
      "execution_count": 3,
      "outputs": [
        {
          "output_type": "error",
          "ename": "NameError",
          "evalue": "ignored",
          "traceback": [
            "\u001b[0;31m---------------------------------------------------------------------------\u001b[0m",
            "\u001b[0;31mNameError\u001b[0m                                 Traceback (most recent call last)",
            "\u001b[0;32m<ipython-input-3-a0f2cf98fcf1>\u001b[0m in \u001b[0;36m<module>\u001b[0;34m()\u001b[0m\n\u001b[0;32m----> 1\u001b[0;31m \u001b[0mproperties\u001b[0m \u001b[0;34m=\u001b[0m \u001b[0mlist\u001b[0m\u001b[0;34m(\u001b[0m\u001b[0mdf\u001b[0m\u001b[0;34m.\u001b[0m\u001b[0mcolumns\u001b[0m\u001b[0;34m.\u001b[0m\u001b[0mvalues\u001b[0m\u001b[0;34m)\u001b[0m\u001b[0;34m\u001b[0m\u001b[0;34m\u001b[0m\u001b[0m\n\u001b[0m\u001b[1;32m      2\u001b[0m \u001b[0;34m\u001b[0m\u001b[0m\n\u001b[1;32m      3\u001b[0m \u001b[0mproperties\u001b[0m\u001b[0;34m.\u001b[0m\u001b[0mremove\u001b[0m\u001b[0;34m(\u001b[0m\u001b[0;34m'H_C1'\u001b[0m\u001b[0;34m)\u001b[0m\u001b[0;34m\u001b[0m\u001b[0;34m\u001b[0m\u001b[0m\n\u001b[1;32m      4\u001b[0m \u001b[0mproperties\u001b[0m\u001b[0;34m.\u001b[0m\u001b[0mremove\u001b[0m\u001b[0;34m(\u001b[0m\u001b[0;34m'H_C2'\u001b[0m\u001b[0;34m)\u001b[0m\u001b[0;34m\u001b[0m\u001b[0;34m\u001b[0m\u001b[0m\n\u001b[1;32m      5\u001b[0m \u001b[0mproperties\u001b[0m\u001b[0;34m.\u001b[0m\u001b[0mremove\u001b[0m\u001b[0;34m(\u001b[0m\u001b[0;34m'H_C3'\u001b[0m\u001b[0;34m)\u001b[0m\u001b[0;34m\u001b[0m\u001b[0;34m\u001b[0m\u001b[0m\n",
            "\u001b[0;31mNameError\u001b[0m: name 'df' is not defined"
          ]
        }
      ]
    },
    {
      "cell_type": "code",
      "metadata": {
        "id": "GNPiPHU0UEyo"
      },
      "source": [
        "import tensorflow as tf\n",
        "import tensorflow \n",
        "\n",
        "from tensorflow import keras\n",
        "from keras.layers import Dense\n",
        "from sklearn.model_selection import train_test_split\n",
        "X_train, X_test, y_train, y_test = train_test_split(X, y, test_size=0.5, random_state=1)\n",
        "X_train, X_val, y_train, y_val = train_test_split(\n",
        "    X_train, y_train, test_size=0.5, random_state=1)\n",
        "\n"
      ],
      "execution_count": null,
      "outputs": []
    },
    {
      "cell_type": "code",
      "metadata": {
        "id": "CFq_8W8DGGVr"
      },
      "source": [
        "#del X_train['Gender_Male']\n",
        "#del X_train['ses']\n",
        "#del X_train['Race']\n",
        "#del X_test['Gender_Male']\n",
        "#del X_test['ses']\n",
        "#del X_test['Race']\n",
        "\n"
      ],
      "execution_count": null,
      "outputs": []
    },
    {
      "cell_type": "code",
      "metadata": {
        "colab": {
          "base_uri": "https://localhost:8080/"
        },
        "id": "zNhmoQQEJw7F",
        "outputId": "553df4e0-1836-4099-a3db-1aa7b07e1551"
      },
      "source": [
        "print(X_train.head())\n",
        "print(X_test.head())\n",
        "print(X_val.head())"
      ],
      "execution_count": null,
      "outputs": [
        {
          "output_type": "stream",
          "name": "stdout",
          "text": [
            "      Male  Female  NB  White  ...  Native-American  Sexuality  SAT   GPA\n",
            "37       1       0   0      0  ...                0          1  220  2.83\n",
            "1061     1       0   0      0  ...                1          0  835  1.70\n",
            "617      0       1   0      0  ...                0          1  955  3.02\n",
            "1016     0       1   0      1  ...                1          0  914  2.32\n",
            "843      1       0   0      0  ...                0          0  646  3.10\n",
            "\n",
            "[5 rows x 11 columns]\n",
            "     Male  Female  NB  White  ...  Native-American  Sexuality   SAT   GPA\n",
            "478     0       1   0      1  ...                1          1   930  1.95\n",
            "301     0       1   0      1  ...                0          1   709  4.24\n",
            "576     0       1   0      1  ...                0          0   940  5.00\n",
            "851     1       0   0      0  ...                0          1  1304  4.36\n",
            "496     1       0   0      0  ...                0          0  1411  2.51\n",
            "\n",
            "[5 rows x 11 columns]\n",
            "      Male  Female  NB  White  ...  Native-American  Sexuality   SAT   GPA\n",
            "871      0       1   0      0  ...                0          1   228  3.65\n",
            "1176     0       1   0      1  ...                0          1   341  2.40\n",
            "500      0       1   0      1  ...                1          0  1340  3.23\n",
            "1115     0       1   0      1  ...                0          0   612  4.79\n",
            "884      1       0   0      1  ...                0          1  1394  1.73\n",
            "\n",
            "[5 rows x 11 columns]\n"
          ]
        }
      ]
    },
    {
      "cell_type": "code",
      "metadata": {
        "id": "aiCBPAt4W84S"
      },
      "source": [
        "model = keras.Sequential([\n",
        "    keras.layers.Flatten(input_shape=(11,)),\n",
        "    keras.layers.Dense(33, activation=tf.nn.relu),\n",
        "    keras.layers.Dense(33, activation=tf.nn.relu),\n",
        "    ##keras.layers.Dense(33, activation=tf.nn.relu),\n",
        "   ## keras.layers.Dense(33, activation=tf.nn.relu),\n",
        "   \tkeras.layers.Dense(33, activation=tf.nn.relu),\n",
        "    keras.layers.Dense(3, activation=tf.nn.sigmoid),\n",
        "])"
      ],
      "execution_count": null,
      "outputs": []
    },
    {
      "cell_type": "code",
      "metadata": {
        "id": "SBNyguVbY5Xw",
        "colab": {
          "base_uri": "https://localhost:8080/",
          "height": 234
        },
        "outputId": "65f0e253-edf8-42b5-a05d-fcea4f36fa83"
      },
      "source": [
        "model.compile(optimizer='adam',\n",
        "              loss='binary_crossentropy',\n",
        "              metrics=['accuracy'])\n",
        "\n",
        "model.fit(X_train, y_train, epochs=800, batch_size=10)\n",
        "test_loss, test_acc = model.evaluate(X_test, y_test)\n"
      ],
      "execution_count": 2,
      "outputs": [
        {
          "output_type": "error",
          "ename": "NameError",
          "evalue": "ignored",
          "traceback": [
            "\u001b[0;31m---------------------------------------------------------------------------\u001b[0m",
            "\u001b[0;31mNameError\u001b[0m                                 Traceback (most recent call last)",
            "\u001b[0;32m<ipython-input-2-3fe20b2d183b>\u001b[0m in \u001b[0;36m<module>\u001b[0;34m()\u001b[0m\n\u001b[0;32m----> 1\u001b[0;31m model.compile(optimizer='adam',\n\u001b[0m\u001b[1;32m      2\u001b[0m               \u001b[0mloss\u001b[0m\u001b[0;34m=\u001b[0m\u001b[0;34m'binary_crossentropy'\u001b[0m\u001b[0;34m,\u001b[0m\u001b[0;34m\u001b[0m\u001b[0;34m\u001b[0m\u001b[0m\n\u001b[1;32m      3\u001b[0m               metrics=['accuracy'])\n\u001b[1;32m      4\u001b[0m \u001b[0;34m\u001b[0m\u001b[0m\n\u001b[1;32m      5\u001b[0m \u001b[0mmodel\u001b[0m\u001b[0;34m.\u001b[0m\u001b[0mfit\u001b[0m\u001b[0;34m(\u001b[0m\u001b[0mX_train\u001b[0m\u001b[0;34m,\u001b[0m \u001b[0my_train\u001b[0m\u001b[0;34m,\u001b[0m \u001b[0mepochs\u001b[0m\u001b[0;34m=\u001b[0m\u001b[0;36m800\u001b[0m\u001b[0;34m,\u001b[0m \u001b[0mbatch_size\u001b[0m\u001b[0;34m=\u001b[0m\u001b[0;36m32\u001b[0m\u001b[0;34m)\u001b[0m\u001b[0;34m\u001b[0m\u001b[0;34m\u001b[0m\u001b[0m\n",
            "\u001b[0;31mNameError\u001b[0m: name 'model' is not defined"
          ]
        }
      ]
    },
    {
      "cell_type": "code",
      "metadata": {
        "id": "jPfo0YOyaycH",
        "colab": {
          "base_uri": "https://localhost:8080/"
        },
        "outputId": "85932918-315f-4ca8-bde5-aea0d7cf1881"
      },
      "source": [
        "print('Test accuracy:', test_acc)"
      ],
      "execution_count": null,
      "outputs": [
        {
          "output_type": "stream",
          "name": "stdout",
          "text": [
            "Test accuracy: 0.9663299918174744\n"
          ]
        }
      ]
    },
    {
      "cell_type": "code",
      "metadata": {
        "colab": {
          "base_uri": "https://localhost:8080/"
        },
        "id": "5I_FuvRiDfOB",
        "outputId": "8dfdce43-5df7-48e1-fe7b-3dc062189ca3"
      },
      "source": [
        "##TODO: Make df of predicted admit of validation set\n",
        "v_predict = model.predict(X_val)\n",
        "print(v_predict)"
      ],
      "execution_count": null,
      "outputs": [
        {
          "output_type": "stream",
          "name": "stdout",
          "text": [
            "[[0.26969498 0.39884648 0.11033022]\n",
            " [0.44411317 0.47104865 0.37405047]\n",
            " [0.39887848 0.38662934 0.37951016]\n",
            " [0.4079976  0.31938392 0.37254196]\n",
            " [0.58251023 0.47585857 0.60200244]\n",
            " [0.3961264  0.34736204 0.3627469 ]\n",
            " [0.3265161  0.5455192  0.1123887 ]\n",
            " [0.22081009 0.20911416 0.31694102]\n",
            " [0.22749299 0.30773485 0.10072961]\n",
            " [0.29395533 0.27647647 0.3389606 ]\n",
            " [0.33073395 0.35067534 0.33038086]\n",
            " [0.2199049  0.3416789  0.09526762]\n",
            " [0.24724707 0.21635184 0.32274365]\n",
            " [0.21293664 0.254766   0.09816864]\n",
            " [0.35214013 0.31953007 0.37200314]\n",
            " [0.25955087 0.47010386 0.1011354 ]\n",
            " [0.43279505 0.38376752 0.6075843 ]\n",
            " [0.39718753 0.32648548 0.37512678]\n",
            " [0.2670293  0.27236813 0.33639663]\n",
            " [0.38115498 0.26877517 0.52029335]\n",
            " [0.45801353 0.26581088 0.5986284 ]\n",
            " [0.22518039 0.25656974 0.09871233]\n",
            " [0.39824086 0.35084918 0.36354947]\n",
            " [0.17688623 0.24763054 0.0913955 ]\n",
            " [0.32032198 0.41747737 0.33647475]\n",
            " [0.33105344 0.4804679  0.1369341 ]\n",
            " [0.1340985  0.15154159 0.08348104]\n",
            " [0.29928038 0.33966374 0.32614058]\n",
            " [0.32988864 0.40885624 0.33689773]\n",
            " [0.37800938 0.26380146 0.36825287]\n",
            " [0.23833182 0.330854   0.10370696]\n",
            " [0.3911025  0.273785   0.60019374]\n",
            " [0.3546129  0.3245468  0.37332356]\n",
            " [0.4715865  0.31755784 0.6027652 ]\n",
            " [0.5797379  0.5299381  0.63847435]\n",
            " [0.41272044 0.47279578 0.37140456]\n",
            " [0.39850387 0.38633943 0.37948287]\n",
            " [0.5989088  0.60577524 0.61129963]\n",
            " [0.39711472 0.2626791  0.5972554 ]\n",
            " [0.32592425 0.4856967  0.10757452]\n",
            " [0.5671109  0.47665817 0.603115  ]\n",
            " [0.38816303 0.22264785 0.5949674 ]\n",
            " [0.47692448 0.34884048 0.59262073]\n",
            " [0.46829438 0.5243305  0.39731264]\n",
            " [0.3326432  0.35486153 0.33137867]\n",
            " [0.29681605 0.26180756 0.33366734]\n",
            " [0.2146366  0.16458216 0.30922168]\n",
            " [0.24457863 0.2729373  0.33574918]\n",
            " [0.16681355 0.26081565 0.09006792]\n",
            " [0.31647402 0.34960228 0.33091402]\n",
            " [0.3410285  0.32145125 0.37217984]\n",
            " [0.35139906 0.31828883 0.37169927]\n",
            " [0.40451494 0.3269803  0.60447437]\n",
            " [0.31262085 0.42032883 0.10480469]\n",
            " [0.49012908 0.322681   0.6032833 ]\n",
            " [0.3493378  0.3709787  0.37411237]\n",
            " [0.51281214 0.4095714  0.55110145]\n",
            " [0.5209166  0.60867786 0.3818954 ]\n",
            " [0.40006328 0.38899004 0.380075  ]\n",
            " [0.47733802 0.4078586  0.59645283]\n",
            " [0.39721024 0.38279223 0.38622493]\n",
            " [0.14359617 0.15888214 0.08250719]\n",
            " [0.41237938 0.38286203 0.37772718]\n",
            " [0.30151394 0.32062578 0.3406188 ]\n",
            " [0.20878336 0.26687726 0.09608048]\n",
            " [0.49309942 0.38650385 0.62054783]\n",
            " [0.403525   0.4815806  0.3404606 ]\n",
            " [0.3165798  0.40849608 0.3359667 ]\n",
            " [0.32803595 0.32365835 0.3736028 ]\n",
            " [0.330814   0.32883567 0.37489265]\n",
            " [0.41055602 0.3239622  0.37980577]\n",
            " [0.4717301  0.42012104 0.39977586]\n",
            " [0.48914534 0.37714994 0.60641545]\n",
            " [0.5088421  0.44868615 0.61299336]\n",
            " [0.5683372  0.5408443  0.607232  ]\n",
            " [0.16800746 0.3098411  0.09251797]\n",
            " [0.3193756  0.4141421  0.33563495]\n",
            " [0.34626448 0.47853756 0.33928758]\n",
            " [0.20596334 0.26089758 0.09619126]\n",
            " [0.2446799  0.34680164 0.09716889]\n",
            " [0.29367548 0.27529824 0.33857584]\n",
            " [0.34213576 0.27241412 0.36943075]\n",
            " [0.48125565 0.41572875 0.59835446]\n",
            " [0.44159183 0.47449702 0.37135103]\n",
            " [0.31510913 0.48773006 0.1070053 ]\n",
            " [0.41373652 0.4748217  0.3718544 ]\n",
            " [0.21451774 0.20431072 0.31672597]\n",
            " [0.21409452 0.27467683 0.09039041]\n",
            " [0.3297188  0.46375605 0.33129174]\n",
            " [0.3357404  0.39649943 0.3296606 ]\n",
            " [0.31730855 0.40975612 0.33468515]\n",
            " [0.18604565 0.30882004 0.09779838]\n",
            " [0.22900966 0.2065241  0.31670338]\n",
            " [0.52076495 0.4711298  0.60044193]\n",
            " [0.31263545 0.26585227 0.36771047]\n",
            " [0.5329712  0.45397782 0.5570382 ]\n",
            " [0.42679417 0.4717044  0.3729363 ]\n",
            " [0.26207793 0.47932586 0.10549501]\n",
            " [0.41304174 0.47101635 0.37379974]\n",
            " [0.2881232  0.2220129  0.3307159 ]\n",
            " [0.260818   0.4721678  0.10492522]\n",
            " [0.5266115  0.48122582 0.6188197 ]\n",
            " [0.32500452 0.48046553 0.10963246]\n",
            " [0.22258967 0.32301652 0.10255918]\n",
            " [0.3172251  0.40995926 0.3350195 ]\n",
            " [0.47399148 0.32844812 0.6120273 ]\n",
            " [0.31106764 0.41497725 0.10611185]\n",
            " [0.55245167 0.41279235 0.5985562 ]\n",
            " [0.4124159  0.31376553 0.59969264]\n",
            " [0.20399657 0.15157357 0.32659996]\n",
            " [0.23844385 0.3774321  0.10665345]\n",
            " [0.28932446 0.2224251  0.3315947 ]\n",
            " [0.330508   0.35125962 0.33061233]\n",
            " [0.14601552 0.19911861 0.08632937]\n",
            " [0.30732393 0.3552636  0.3319955 ]\n",
            " [0.2669614  0.32349426 0.34004736]\n",
            " [0.56645936 0.5378433  0.6087225 ]\n",
            " [0.46226203 0.32495785 0.6044327 ]\n",
            " [0.28347605 0.3510148  0.10243583]\n",
            " [0.42477158 0.46760157 0.37174067]\n",
            " [0.42745554 0.47222367 0.37114686]\n",
            " [0.42843902 0.4496949  0.38322327]\n",
            " [0.5177616  0.60375524 0.38327986]\n",
            " [0.2109595  0.15903458 0.3173532 ]\n",
            " [0.38531005 0.41226086 0.33597952]\n",
            " [0.5059164  0.38427064 0.6085372 ]\n",
            " [0.47567102 0.40445945 0.5963823 ]\n",
            " [0.39513224 0.4633221  0.3295458 ]\n",
            " [0.1495384  0.20224026 0.08609602]\n",
            " [0.40545744 0.5173289  0.32909104]\n",
            " [0.50949836 0.41500252 0.5977379 ]\n",
            " [0.4260239  0.4081849  0.36628985]\n",
            " [0.4238341  0.38006502 0.37739915]\n",
            " [0.18662211 0.31137252 0.09705561]\n",
            " [0.30191696 0.20827371 0.35412595]\n",
            " [0.48682472 0.31714386 0.6018415 ]\n",
            " [0.24729523 0.25838408 0.32662684]\n",
            " [0.24524209 0.32331797 0.10498795]\n",
            " [0.28013903 0.21144849 0.32375073]\n",
            " [0.34898478 0.3706193  0.37142757]\n",
            " [0.37351552 0.41410667 0.33610144]\n",
            " [0.2637353  0.31752253 0.34035325]\n",
            " [0.30668145 0.2993706  0.32831573]\n",
            " [0.16868103 0.2487235  0.09138069]\n",
            " [0.439935   0.4710481  0.37056655]\n",
            " [0.49033388 0.32310534 0.6034022 ]\n",
            " [0.3805222  0.40403956 0.33574277]\n",
            " [0.40288857 0.2717182  0.5998777 ]\n",
            " [0.31525958 0.3480969  0.33065623]\n",
            " [0.5047728  0.44084787 0.6112011 ]\n",
            " [0.4129806  0.38477555 0.378252  ]\n",
            " [0.41227573 0.4724598  0.3720885 ]\n",
            " [0.4443043  0.48028028 0.37267816]\n",
            " [0.14713922 0.24799165 0.08808893]\n",
            " [0.14306366 0.24456933 0.08924168]\n",
            " [0.33280706 0.35485643 0.33134645]\n",
            " [0.49024108 0.3783374  0.6066221 ]\n",
            " [0.3385381  0.46557516 0.33668074]\n",
            " [0.39032102 0.2721129  0.59966624]\n",
            " [0.19470313 0.19857016 0.08942854]\n",
            " [0.42971694 0.47745222 0.3717297 ]\n",
            " [0.41049898 0.46965533 0.37281245]\n",
            " [0.490772   0.32438308 0.603789  ]\n",
            " [0.28410882 0.35292536 0.1020509 ]\n",
            " [0.12854856 0.16946381 0.08343723]\n",
            " [0.3114251  0.41606456 0.10590002]\n",
            " [0.257359   0.27385807 0.33602524]\n",
            " [0.5593292  0.51522017 0.6018086 ]\n",
            " [0.16692674 0.26032752 0.09058708]\n",
            " [0.21953967 0.17533076 0.3210402 ]\n",
            " [0.25471514 0.37701228 0.11374348]\n",
            " [0.5966252  0.54117423 0.60681486]\n",
            " [0.2247608  0.257928   0.09711578]\n",
            " [0.29577678 0.26051295 0.3328036 ]\n",
            " [0.21730158 0.34193087 0.09461993]\n",
            " [0.33593187 0.39783525 0.32931453]\n",
            " [0.40020972 0.26703966 0.5984731 ]\n",
            " [0.38641176 0.4763657  0.3400614 ]\n",
            " [0.3275404  0.32246962 0.3732765 ]\n",
            " [0.4929572  0.3840725  0.6080719 ]\n",
            " [0.44261327 0.5397475  0.37871158]\n",
            " [0.21632898 0.31195143 0.10157353]\n",
            " [0.5263814  0.47577798 0.59337175]\n",
            " [0.5079652  0.41208333 0.5970473 ]\n",
            " [0.2373352  0.26152435 0.32877487]\n",
            " [0.48809713 0.5408316  0.377153  ]\n",
            " [0.35527432 0.38243636 0.37718487]\n",
            " [0.31173122 0.416564   0.10598993]\n",
            " [0.49079347 0.5466837  0.3785289 ]\n",
            " [0.42424595 0.380773   0.3827909 ]\n",
            " [0.49877262 0.47194663 0.39504254]\n",
            " [0.30628362 0.21401009 0.35798138]\n",
            " [0.47708827 0.38448337 0.60908777]\n",
            " [0.5153303  0.5379548  0.37605557]\n",
            " [0.18401879 0.25856155 0.09223884]\n",
            " [0.35240257 0.32144985 0.3791291 ]\n",
            " [0.43994886 0.47158727 0.37075686]\n",
            " [0.29918402 0.47607088 0.10974437]\n",
            " [0.37125936 0.35230064 0.3321085 ]\n",
            " [0.42988172 0.3766847  0.60572106]\n",
            " [0.42779505 0.41194513 0.3671806 ]\n",
            " [0.3153494  0.2695617  0.33651108]\n",
            " [0.47302088 0.32020867 0.6034827 ]\n",
            " [0.34136242 0.27058846 0.3778862 ]\n",
            " [0.41135955 0.38058606 0.3771562 ]\n",
            " [0.20232594 0.21172538 0.09201282]\n",
            " [0.25312936 0.40835825 0.10505274]\n",
            " [0.41768685 0.3906371  0.39421842]\n",
            " [0.41259432 0.26223883 0.5961562 ]\n",
            " [0.4030588  0.3612733  0.38333485]\n",
            " [0.23791295 0.35701546 0.09750566]\n",
            " [0.5270332  0.45367002 0.5617991 ]\n",
            " [0.27539018 0.20603517 0.3196994 ]\n",
            " [0.50469095 0.44025314 0.6110239 ]\n",
            " [0.49127278 0.3803287  0.60711145]\n",
            " [0.15246126 0.20516199 0.08486742]\n",
            " [0.40282965 0.41812176 0.36907667]\n",
            " [0.2410703  0.4212566  0.10129634]\n",
            " [0.3000914  0.48222196 0.10848388]\n",
            " [0.42674932 0.4714548  0.3728336 ]\n",
            " [0.3032208  0.32451278 0.34161288]\n",
            " [0.39985448 0.3535809  0.36418325]\n",
            " [0.31488186 0.3464237  0.33018407]\n",
            " [0.55239296 0.41146523 0.5981291 ]\n",
            " [0.22152266 0.20127103 0.31666046]\n",
            " [0.41832474 0.27268904 0.5993748 ]\n",
            " [0.31730092 0.27399886 0.3378058 ]\n",
            " [0.4764918  0.34843093 0.59255344]\n",
            " [0.42977044 0.41593933 0.3681067 ]\n",
            " [0.58176666 0.5319053  0.6038214 ]\n",
            " [0.4531094  0.31919616 0.56504357]\n",
            " [0.3942299  0.30886996 0.593268  ]\n",
            " [0.2766022  0.20722184 0.3207075 ]\n",
            " [0.21026155 0.27251896 0.08528408]\n",
            " [0.33299553 0.35637861 0.33180195]\n",
            " [0.15986705 0.24837172 0.0927889 ]\n",
            " [0.31114894 0.35190713 0.1126093 ]\n",
            " [0.40985742 0.40730405 0.36698824]\n",
            " [0.3897417  0.2715066  0.5995304 ]\n",
            " [0.21932206 0.26634657 0.09898654]\n",
            " [0.4344507  0.38626692 0.60812366]\n",
            " [0.38635552 0.41459554 0.33651167]\n",
            " [0.5225163  0.5373865  0.60834026]\n",
            " [0.5114292  0.4791914  0.60197955]\n",
            " [0.32851622 0.5515065  0.11121336]\n",
            " [0.16519678 0.30962187 0.09660381]\n",
            " [0.2372793  0.2616226  0.32874376]\n",
            " [0.16200724 0.20697829 0.08691764]\n",
            " [0.39764807 0.40833125 0.3668812 ]\n",
            " [0.4145068  0.5391803  0.34649283]\n",
            " [0.4008425  0.41495958 0.3359213 ]\n",
            " [0.38873062 0.2696668  0.59897375]\n",
            " [0.22880685 0.20629352 0.3165124 ]\n",
            " [0.30374223 0.27279714 0.33816963]\n",
            " [0.39485556 0.3780033  0.37738216]\n",
            " [0.45842776 0.2663821  0.59878796]\n",
            " [0.3042798  0.29479027 0.32716936]\n",
            " [0.3939205  0.31089365 0.57202184]\n",
            " [0.48822454 0.31932083 0.60239315]\n",
            " [0.26247776 0.47777146 0.10619959]\n",
            " [0.5539446  0.4759839  0.6025732 ]\n",
            " [0.38335955 0.27236706 0.37065864]\n",
            " [0.38740423 0.41687387 0.33702773]\n",
            " [0.47320038 0.41474527 0.36909872]\n",
            " [0.41531062 0.4788751  0.34015402]\n",
            " [0.39057374 0.27216327 0.5996392 ]\n",
            " [0.40012485 0.33321887 0.39352152]\n",
            " [0.49379507 0.38630068 0.6086712 ]\n",
            " [0.25970086 0.4095286  0.10349715]\n",
            " [0.5283194  0.48235127 0.61981404]\n",
            " [0.24983221 0.3874073  0.10927632]\n",
            " [0.3250676  0.3178404  0.37210822]\n",
            " [0.38304704 0.40867016 0.33527428]\n",
            " [0.2151829  0.16347    0.3126307 ]\n",
            " [0.4126511  0.3272033  0.3744914 ]\n",
            " [0.28695288 0.35881734 0.10207093]\n",
            " [0.14578718 0.16105774 0.08057025]\n",
            " [0.5117624  0.41887182 0.61430305]\n",
            " [0.2631787  0.26691324 0.3329376 ]\n",
            " [0.31451705 0.26795435 0.36857384]\n",
            " [0.5895314  0.48118153 0.61211294]\n",
            " [0.5146999  0.5356478  0.37543964]\n",
            " [0.2501889  0.41255173 0.10259992]\n",
            " [0.60071087 0.59005237 0.60131377]\n",
            " [0.20901096 0.26464683 0.09801719]\n",
            " [0.52562684 0.5432528  0.6064605 ]\n",
            " [0.5018971  0.47486338 0.37184322]\n",
            " [0.5749642  0.4822502  0.6138539 ]\n",
            " [0.3335878  0.41615418 0.3353845 ]\n",
            " [0.26763427 0.27287233 0.3368954 ]\n",
            " [0.26539546 0.44736874 0.11729792]\n",
            " [0.38197553 0.2708169  0.37030476]\n",
            " [0.2874475  0.4174169  0.10547233]\n",
            " [0.14586383 0.19917682 0.08574975]\n",
            " [0.20568365 0.25970665 0.09663561]\n",
            " [0.41527063 0.4780619  0.3399176 ]\n",
            " [0.39991426 0.3543296  0.36442536]]\n"
          ]
        }
      ]
    },
    {
      "cell_type": "code",
      "metadata": {
        "id": "L_B3CxG_mrjA",
        "colab": {
          "base_uri": "https://localhost:8080/",
          "height": 432
        },
        "outputId": "35354ad0-6208-477f-8c78-04355afc8fb1"
      },
      "source": [
        "#append array into dataframe for Xval\n"
      ],
      "execution_count": null,
      "outputs": [
        {
          "output_type": "error",
          "ename": "ValueError",
          "evalue": "ignored",
          "traceback": [
            "\u001b[0;31m---------------------------------------------------------------------------\u001b[0m",
            "\u001b[0;31mAssertionError\u001b[0m                            Traceback (most recent call last)",
            "\u001b[0;32m/usr/local/lib/python3.7/dist-packages/pandas/core/internals/construction.py\u001b[0m in \u001b[0;36m_list_to_arrays\u001b[0;34m(data, columns, coerce_float, dtype)\u001b[0m\n\u001b[1;32m    563\u001b[0m     \u001b[0;32mtry\u001b[0m\u001b[0;34m:\u001b[0m\u001b[0;34m\u001b[0m\u001b[0;34m\u001b[0m\u001b[0m\n\u001b[0;32m--> 564\u001b[0;31m         \u001b[0mcolumns\u001b[0m \u001b[0;34m=\u001b[0m \u001b[0m_validate_or_indexify_columns\u001b[0m\u001b[0;34m(\u001b[0m\u001b[0mcontent\u001b[0m\u001b[0;34m,\u001b[0m \u001b[0mcolumns\u001b[0m\u001b[0;34m)\u001b[0m\u001b[0;34m\u001b[0m\u001b[0;34m\u001b[0m\u001b[0m\n\u001b[0m\u001b[1;32m    565\u001b[0m         \u001b[0mresult\u001b[0m \u001b[0;34m=\u001b[0m \u001b[0m_convert_object_array\u001b[0m\u001b[0;34m(\u001b[0m\u001b[0mcontent\u001b[0m\u001b[0;34m,\u001b[0m \u001b[0mdtype\u001b[0m\u001b[0;34m=\u001b[0m\u001b[0mdtype\u001b[0m\u001b[0;34m,\u001b[0m \u001b[0mcoerce_float\u001b[0m\u001b[0;34m=\u001b[0m\u001b[0mcoerce_float\u001b[0m\u001b[0;34m)\u001b[0m\u001b[0;34m\u001b[0m\u001b[0;34m\u001b[0m\u001b[0m\n",
            "\u001b[0;32m/usr/local/lib/python3.7/dist-packages/pandas/core/internals/construction.py\u001b[0m in \u001b[0;36m_validate_or_indexify_columns\u001b[0;34m(content, columns)\u001b[0m\n\u001b[1;32m    688\u001b[0m             raise AssertionError(\n\u001b[0;32m--> 689\u001b[0;31m                 \u001b[0;34mf\"{len(columns)} columns passed, passed data had \"\u001b[0m\u001b[0;34m\u001b[0m\u001b[0;34m\u001b[0m\u001b[0m\n\u001b[0m\u001b[1;32m    690\u001b[0m                 \u001b[0;34mf\"{len(content)} columns\"\u001b[0m\u001b[0;34m\u001b[0m\u001b[0;34m\u001b[0m\u001b[0m\n",
            "\u001b[0;31mAssertionError\u001b[0m: 3 columns passed, passed data had 1 columns",
            "\nThe above exception was the direct cause of the following exception:\n",
            "\u001b[0;31mValueError\u001b[0m                                Traceback (most recent call last)",
            "\u001b[0;32m<ipython-input-50-5cf146d1b5e2>\u001b[0m in \u001b[0;36m<module>\u001b[0;34m()\u001b[0m\n\u001b[1;32m      1\u001b[0m \u001b[0;31m#append array into dataframe for Xval\u001b[0m\u001b[0;34m\u001b[0m\u001b[0;34m\u001b[0m\u001b[0;34m\u001b[0m\u001b[0m\n\u001b[1;32m      2\u001b[0m \u001b[0mpredicted_XVal\u001b[0m \u001b[0;34m=\u001b[0m \u001b[0mX_val\u001b[0m\u001b[0;34m\u001b[0m\u001b[0;34m\u001b[0m\u001b[0m\n\u001b[0;32m----> 3\u001b[0;31m \u001b[0mfd\u001b[0m \u001b[0;34m=\u001b[0m \u001b[0mpd\u001b[0m\u001b[0;34m.\u001b[0m\u001b[0mDataFrame\u001b[0m\u001b[0;34m(\u001b[0m\u001b[0mzip\u001b[0m\u001b[0;34m(\u001b[0m\u001b[0mv_predict\u001b[0m\u001b[0;34m)\u001b[0m\u001b[0;34m,\u001b[0m \u001b[0mcolumns\u001b[0m \u001b[0;34m=\u001b[0m \u001b[0;34m[\u001b[0m\u001b[0;34m\"HA\"\u001b[0m\u001b[0;34m,\u001b[0m\u001b[0;34m\"HB\"\u001b[0m\u001b[0;34m,\u001b[0m\u001b[0;34m\"HC\"\u001b[0m\u001b[0;34m]\u001b[0m\u001b[0;34m)\u001b[0m\u001b[0;34m\u001b[0m\u001b[0;34m\u001b[0m\u001b[0m\n\u001b[0m",
            "\u001b[0;32m/usr/local/lib/python3.7/dist-packages/pandas/core/frame.py\u001b[0m in \u001b[0;36m__init__\u001b[0;34m(self, data, index, columns, dtype, copy)\u001b[0m\n\u001b[1;32m    507\u001b[0m                     \u001b[0;32mif\u001b[0m \u001b[0mis_named_tuple\u001b[0m\u001b[0;34m(\u001b[0m\u001b[0mdata\u001b[0m\u001b[0;34m[\u001b[0m\u001b[0;36m0\u001b[0m\u001b[0;34m]\u001b[0m\u001b[0;34m)\u001b[0m \u001b[0;32mand\u001b[0m \u001b[0mcolumns\u001b[0m \u001b[0;32mis\u001b[0m \u001b[0;32mNone\u001b[0m\u001b[0;34m:\u001b[0m\u001b[0;34m\u001b[0m\u001b[0;34m\u001b[0m\u001b[0m\n\u001b[1;32m    508\u001b[0m                         \u001b[0mcolumns\u001b[0m \u001b[0;34m=\u001b[0m \u001b[0mdata\u001b[0m\u001b[0;34m[\u001b[0m\u001b[0;36m0\u001b[0m\u001b[0;34m]\u001b[0m\u001b[0;34m.\u001b[0m\u001b[0m_fields\u001b[0m\u001b[0;34m\u001b[0m\u001b[0;34m\u001b[0m\u001b[0m\n\u001b[0;32m--> 509\u001b[0;31m                     \u001b[0marrays\u001b[0m\u001b[0;34m,\u001b[0m \u001b[0mcolumns\u001b[0m \u001b[0;34m=\u001b[0m \u001b[0mto_arrays\u001b[0m\u001b[0;34m(\u001b[0m\u001b[0mdata\u001b[0m\u001b[0;34m,\u001b[0m \u001b[0mcolumns\u001b[0m\u001b[0;34m,\u001b[0m \u001b[0mdtype\u001b[0m\u001b[0;34m=\u001b[0m\u001b[0mdtype\u001b[0m\u001b[0;34m)\u001b[0m\u001b[0;34m\u001b[0m\u001b[0;34m\u001b[0m\u001b[0m\n\u001b[0m\u001b[1;32m    510\u001b[0m                     \u001b[0mcolumns\u001b[0m \u001b[0;34m=\u001b[0m \u001b[0mensure_index\u001b[0m\u001b[0;34m(\u001b[0m\u001b[0mcolumns\u001b[0m\u001b[0;34m)\u001b[0m\u001b[0;34m\u001b[0m\u001b[0;34m\u001b[0m\u001b[0m\n\u001b[1;32m    511\u001b[0m \u001b[0;34m\u001b[0m\u001b[0m\n",
            "\u001b[0;32m/usr/local/lib/python3.7/dist-packages/pandas/core/internals/construction.py\u001b[0m in \u001b[0;36mto_arrays\u001b[0;34m(data, columns, coerce_float, dtype)\u001b[0m\n\u001b[1;32m    522\u001b[0m         \u001b[0;32mreturn\u001b[0m \u001b[0;34m[\u001b[0m\u001b[0;34m]\u001b[0m\u001b[0;34m,\u001b[0m \u001b[0;34m[\u001b[0m\u001b[0;34m]\u001b[0m  \u001b[0;31m# columns if columns is not None else []\u001b[0m\u001b[0;34m\u001b[0m\u001b[0;34m\u001b[0m\u001b[0m\n\u001b[1;32m    523\u001b[0m     \u001b[0;32mif\u001b[0m \u001b[0misinstance\u001b[0m\u001b[0;34m(\u001b[0m\u001b[0mdata\u001b[0m\u001b[0;34m[\u001b[0m\u001b[0;36m0\u001b[0m\u001b[0;34m]\u001b[0m\u001b[0;34m,\u001b[0m \u001b[0;34m(\u001b[0m\u001b[0mlist\u001b[0m\u001b[0;34m,\u001b[0m \u001b[0mtuple\u001b[0m\u001b[0;34m)\u001b[0m\u001b[0;34m)\u001b[0m\u001b[0;34m:\u001b[0m\u001b[0;34m\u001b[0m\u001b[0;34m\u001b[0m\u001b[0m\n\u001b[0;32m--> 524\u001b[0;31m         \u001b[0;32mreturn\u001b[0m \u001b[0m_list_to_arrays\u001b[0m\u001b[0;34m(\u001b[0m\u001b[0mdata\u001b[0m\u001b[0;34m,\u001b[0m \u001b[0mcolumns\u001b[0m\u001b[0;34m,\u001b[0m \u001b[0mcoerce_float\u001b[0m\u001b[0;34m=\u001b[0m\u001b[0mcoerce_float\u001b[0m\u001b[0;34m,\u001b[0m \u001b[0mdtype\u001b[0m\u001b[0;34m=\u001b[0m\u001b[0mdtype\u001b[0m\u001b[0;34m)\u001b[0m\u001b[0;34m\u001b[0m\u001b[0;34m\u001b[0m\u001b[0m\n\u001b[0m\u001b[1;32m    525\u001b[0m     \u001b[0;32melif\u001b[0m \u001b[0misinstance\u001b[0m\u001b[0;34m(\u001b[0m\u001b[0mdata\u001b[0m\u001b[0;34m[\u001b[0m\u001b[0;36m0\u001b[0m\u001b[0;34m]\u001b[0m\u001b[0;34m,\u001b[0m \u001b[0mabc\u001b[0m\u001b[0;34m.\u001b[0m\u001b[0mMapping\u001b[0m\u001b[0;34m)\u001b[0m\u001b[0;34m:\u001b[0m\u001b[0;34m\u001b[0m\u001b[0;34m\u001b[0m\u001b[0m\n\u001b[1;32m    526\u001b[0m         return _list_of_dict_to_arrays(\n",
            "\u001b[0;32m/usr/local/lib/python3.7/dist-packages/pandas/core/internals/construction.py\u001b[0m in \u001b[0;36m_list_to_arrays\u001b[0;34m(data, columns, coerce_float, dtype)\u001b[0m\n\u001b[1;32m    565\u001b[0m         \u001b[0mresult\u001b[0m \u001b[0;34m=\u001b[0m \u001b[0m_convert_object_array\u001b[0m\u001b[0;34m(\u001b[0m\u001b[0mcontent\u001b[0m\u001b[0;34m,\u001b[0m \u001b[0mdtype\u001b[0m\u001b[0;34m=\u001b[0m\u001b[0mdtype\u001b[0m\u001b[0;34m,\u001b[0m \u001b[0mcoerce_float\u001b[0m\u001b[0;34m=\u001b[0m\u001b[0mcoerce_float\u001b[0m\u001b[0;34m)\u001b[0m\u001b[0;34m\u001b[0m\u001b[0;34m\u001b[0m\u001b[0m\n\u001b[1;32m    566\u001b[0m     \u001b[0;32mexcept\u001b[0m \u001b[0mAssertionError\u001b[0m \u001b[0;32mas\u001b[0m \u001b[0me\u001b[0m\u001b[0;34m:\u001b[0m\u001b[0;34m\u001b[0m\u001b[0;34m\u001b[0m\u001b[0m\n\u001b[0;32m--> 567\u001b[0;31m         \u001b[0;32mraise\u001b[0m \u001b[0mValueError\u001b[0m\u001b[0;34m(\u001b[0m\u001b[0me\u001b[0m\u001b[0;34m)\u001b[0m \u001b[0;32mfrom\u001b[0m \u001b[0me\u001b[0m\u001b[0;34m\u001b[0m\u001b[0;34m\u001b[0m\u001b[0m\n\u001b[0m\u001b[1;32m    568\u001b[0m     \u001b[0;32mreturn\u001b[0m \u001b[0mresult\u001b[0m\u001b[0;34m,\u001b[0m \u001b[0mcolumns\u001b[0m\u001b[0;34m\u001b[0m\u001b[0;34m\u001b[0m\u001b[0m\n\u001b[1;32m    569\u001b[0m \u001b[0;34m\u001b[0m\u001b[0m\n",
            "\u001b[0;31mValueError\u001b[0m: 3 columns passed, passed data had 1 columns"
          ]
        }
      ]
    },
    {
      "cell_type": "code",
      "source": [
        "predicted_XVal.head()"
      ],
      "metadata": {
        "colab": {
          "base_uri": "https://localhost:8080/",
          "height": 206
        },
        "id": "2HeIlCwMaog7",
        "outputId": "cb8df7eb-77da-4ac7-ce4f-46af4f7f3873"
      },
      "execution_count": null,
      "outputs": [
        {
          "output_type": "execute_result",
          "data": {
            "text/html": [
              "<div>\n",
              "<style scoped>\n",
              "    .dataframe tbody tr th:only-of-type {\n",
              "        vertical-align: middle;\n",
              "    }\n",
              "\n",
              "    .dataframe tbody tr th {\n",
              "        vertical-align: top;\n",
              "    }\n",
              "\n",
              "    .dataframe thead th {\n",
              "        text-align: right;\n",
              "    }\n",
              "</style>\n",
              "<table border=\"1\" class=\"dataframe\">\n",
              "  <thead>\n",
              "    <tr style=\"text-align: right;\">\n",
              "      <th></th>\n",
              "      <th>Male</th>\n",
              "      <th>Female</th>\n",
              "      <th>NB</th>\n",
              "      <th>White</th>\n",
              "      <th>Black</th>\n",
              "      <th>Asian</th>\n",
              "      <th>Latina</th>\n",
              "      <th>Native-American</th>\n",
              "      <th>Sexuality</th>\n",
              "      <th>SAT</th>\n",
              "      <th>GPA</th>\n",
              "      <th>Predicted Happiness</th>\n",
              "    </tr>\n",
              "  </thead>\n",
              "  <tbody>\n",
              "    <tr>\n",
              "      <th>871</th>\n",
              "      <td>0</td>\n",
              "      <td>1</td>\n",
              "      <td>0</td>\n",
              "      <td>0</td>\n",
              "      <td>1</td>\n",
              "      <td>0</td>\n",
              "      <td>1</td>\n",
              "      <td>0</td>\n",
              "      <td>1</td>\n",
              "      <td>228</td>\n",
              "      <td>3.65</td>\n",
              "      <td>[0.2515653371810913, 0.39891088008880615, 0.09...</td>\n",
              "    </tr>\n",
              "    <tr>\n",
              "      <th>1176</th>\n",
              "      <td>0</td>\n",
              "      <td>1</td>\n",
              "      <td>0</td>\n",
              "      <td>1</td>\n",
              "      <td>1</td>\n",
              "      <td>0</td>\n",
              "      <td>1</td>\n",
              "      <td>0</td>\n",
              "      <td>1</td>\n",
              "      <td>341</td>\n",
              "      <td>2.40</td>\n",
              "      <td>[0.43641310930252075, 0.4609473645687103, 0.36...</td>\n",
              "    </tr>\n",
              "    <tr>\n",
              "      <th>500</th>\n",
              "      <td>0</td>\n",
              "      <td>1</td>\n",
              "      <td>0</td>\n",
              "      <td>1</td>\n",
              "      <td>0</td>\n",
              "      <td>1</td>\n",
              "      <td>1</td>\n",
              "      <td>1</td>\n",
              "      <td>0</td>\n",
              "      <td>1340</td>\n",
              "      <td>3.23</td>\n",
              "      <td>[0.38497960567474365, 0.3668515086174011, 0.36...</td>\n",
              "    </tr>\n",
              "    <tr>\n",
              "      <th>1115</th>\n",
              "      <td>0</td>\n",
              "      <td>1</td>\n",
              "      <td>0</td>\n",
              "      <td>1</td>\n",
              "      <td>1</td>\n",
              "      <td>1</td>\n",
              "      <td>0</td>\n",
              "      <td>0</td>\n",
              "      <td>0</td>\n",
              "      <td>612</td>\n",
              "      <td>4.79</td>\n",
              "      <td>[0.40249836444854736, 0.3133099675178528, 0.36...</td>\n",
              "    </tr>\n",
              "    <tr>\n",
              "      <th>884</th>\n",
              "      <td>1</td>\n",
              "      <td>0</td>\n",
              "      <td>0</td>\n",
              "      <td>1</td>\n",
              "      <td>1</td>\n",
              "      <td>1</td>\n",
              "      <td>0</td>\n",
              "      <td>0</td>\n",
              "      <td>1</td>\n",
              "      <td>1394</td>\n",
              "      <td>1.73</td>\n",
              "      <td>[0.5728508234024048, 0.4590316712856293, 0.593...</td>\n",
              "    </tr>\n",
              "  </tbody>\n",
              "</table>\n",
              "</div>"
            ],
            "text/plain": [
              "      Male  Female  ...   GPA                                Predicted Happiness\n",
              "871      0       1  ...  3.65  [0.2515653371810913, 0.39891088008880615, 0.09...\n",
              "1176     0       1  ...  2.40  [0.43641310930252075, 0.4609473645687103, 0.36...\n",
              "500      0       1  ...  3.23  [0.38497960567474365, 0.3668515086174011, 0.36...\n",
              "1115     0       1  ...  4.79  [0.40249836444854736, 0.3133099675178528, 0.36...\n",
              "884      1       0  ...  1.73  [0.5728508234024048, 0.4590316712856293, 0.593...\n",
              "\n",
              "[5 rows x 12 columns]"
            ]
          },
          "metadata": {},
          "execution_count": 44
        }
      ]
    },
    {
      "cell_type": "code",
      "metadata": {
        "id": "1NjWOHkUmw-o",
        "colab": {
          "base_uri": "https://localhost:8080/",
          "height": 452
        },
        "outputId": "a8db3872-e5c9-47f3-fa85-411249ee615e"
      },
      "source": [
        "#graph out predicted to admit vs gender type\n",
        "\n"
      ],
      "execution_count": null,
      "outputs": [
        {
          "output_type": "display_data",
          "data": {
            "image/png": "[encoded data removed]",
            "text/plain": [
              "<Figure size 640x480 with 1 Axes>"
            ]
          },
          "metadata": {}
        }
      ]
    },
    {
      "cell_type": "code",
      "metadata": {
        "id": "fzc-v-HrEy7j"
      },
      "source": [
        ""
      ],
      "execution_count": null,
      "outputs": []
    }
  ]
}